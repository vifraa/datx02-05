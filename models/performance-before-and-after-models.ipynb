{
  "cells": [
    {
      "cell_type": "markdown",
      "metadata": {
        "pycharm": {}
      },
      "source": [
        "# Pre-post performance models\n",
        "In this file we are creating models that are based on the dataset that only contain\n",
        "individual parameters and the preperformance and the postperformance."
      ]
    },
    {
      "cell_type": "code",
      "execution_count": 3,
      "metadata": {
        "pycharm": {}
      },
      "outputs": [],
      "source": "import csv\nfrom helpers import print_mean_squared_error, print_coefficient_of_determination, calculate_age\nimport pandas as pd\nimport numpy as np\nfrom sklearn.model_selection import train_test_split"
    },
    {
      "cell_type": "code",
      "execution_count": 11,
      "metadata": {
        "pycharm": {}
      },
      "outputs": [
        {
          "data": {
            "text/plain": "   rep0  weight0  rep1  weight1  rep2  weight2  rep3  weight3  rep4  weight4  \\\n0  10.0     50.0  10.0     60.0   8.0     70.0   6.0    65.00   6.0    75.00   \n1  10.0     53.5  10.0     64.2   8.0     74.9   6.0    69.55   6.0    80.25   \n2  10.0     51.5  10.0     61.8   8.0     72.1   6.0    66.95   6.0    77.25   \n3  10.0     50.5  10.0     60.6   8.0     70.7   6.0    65.65   6.0    75.75   \n4  10.0     51.0  10.0     61.2   8.0     71.4   6.0    66.30   6.0    76.50   \n\n   ...  weight62  rep63  weight63  rep64  weight64   Age  Gender  Bodyweight  \\\n0  ...     85.00    2.0      90.0    2.0      90.0  30.0     0.0   51.954571   \n1  ...     90.95    2.0      96.3    2.0      96.3  31.0     0.0   48.560466   \n2  ...     87.55    2.0      92.7    2.0      92.7  37.0     0.0   49.705740   \n3  ...     85.85    2.0      90.9    2.0      90.9  26.0     1.0   51.601723   \n4  ...     86.70    2.0      91.8    2.0      91.8  27.0     1.0   53.723642   \n\n   Preperformance  Performance  \n0           100.0   112.067484  \n1           107.0   119.058888  \n2           103.0   115.063668  \n3           101.0   113.066189  \n4           102.0   114.064917  \n\n[5 rows x 135 columns]",
            "text/html": "\u003cdiv\u003e\n\u003cstyle scoped\u003e\n    .dataframe tbody tr th:only-of-type {\n        vertical-align: middle;\n    }\n\n    .dataframe tbody tr th {\n        vertical-align: top;\n    }\n\n    .dataframe thead th {\n        text-align: right;\n    }\n\u003c/style\u003e\n\u003ctable border\u003d\"1\" class\u003d\"dataframe\"\u003e\n  \u003cthead\u003e\n    \u003ctr style\u003d\"text-align: right;\"\u003e\n      \u003cth\u003e\u003c/th\u003e\n      \u003cth\u003erep0\u003c/th\u003e\n      \u003cth\u003eweight0\u003c/th\u003e\n      \u003cth\u003erep1\u003c/th\u003e\n      \u003cth\u003eweight1\u003c/th\u003e\n      \u003cth\u003erep2\u003c/th\u003e\n      \u003cth\u003eweight2\u003c/th\u003e\n      \u003cth\u003erep3\u003c/th\u003e\n      \u003cth\u003eweight3\u003c/th\u003e\n      \u003cth\u003erep4\u003c/th\u003e\n      \u003cth\u003eweight4\u003c/th\u003e\n      \u003cth\u003e...\u003c/th\u003e\n      \u003cth\u003eweight62\u003c/th\u003e\n      \u003cth\u003erep63\u003c/th\u003e\n      \u003cth\u003eweight63\u003c/th\u003e\n      \u003cth\u003erep64\u003c/th\u003e\n      \u003cth\u003eweight64\u003c/th\u003e\n      \u003cth\u003eAge\u003c/th\u003e\n      \u003cth\u003eGender\u003c/th\u003e\n      \u003cth\u003eBodyweight\u003c/th\u003e\n      \u003cth\u003ePreperformance\u003c/th\u003e\n      \u003cth\u003ePerformance\u003c/th\u003e\n    \u003c/tr\u003e\n  \u003c/thead\u003e\n  \u003ctbody\u003e\n    \u003ctr\u003e\n      \u003cth\u003e0\u003c/th\u003e\n      \u003ctd\u003e10.0\u003c/td\u003e\n      \u003ctd\u003e50.0\u003c/td\u003e\n      \u003ctd\u003e10.0\u003c/td\u003e\n      \u003ctd\u003e60.0\u003c/td\u003e\n      \u003ctd\u003e8.0\u003c/td\u003e\n      \u003ctd\u003e70.0\u003c/td\u003e\n      \u003ctd\u003e6.0\u003c/td\u003e\n      \u003ctd\u003e65.00\u003c/td\u003e\n      \u003ctd\u003e6.0\u003c/td\u003e\n      \u003ctd\u003e75.00\u003c/td\u003e\n      \u003ctd\u003e...\u003c/td\u003e\n      \u003ctd\u003e85.00\u003c/td\u003e\n      \u003ctd\u003e2.0\u003c/td\u003e\n      \u003ctd\u003e90.0\u003c/td\u003e\n      \u003ctd\u003e2.0\u003c/td\u003e\n      \u003ctd\u003e90.0\u003c/td\u003e\n      \u003ctd\u003e30.0\u003c/td\u003e\n      \u003ctd\u003e0.0\u003c/td\u003e\n      \u003ctd\u003e51.954571\u003c/td\u003e\n      \u003ctd\u003e100.0\u003c/td\u003e\n      \u003ctd\u003e112.067484\u003c/td\u003e\n    \u003c/tr\u003e\n    \u003ctr\u003e\n      \u003cth\u003e1\u003c/th\u003e\n      \u003ctd\u003e10.0\u003c/td\u003e\n      \u003ctd\u003e53.5\u003c/td\u003e\n      \u003ctd\u003e10.0\u003c/td\u003e\n      \u003ctd\u003e64.2\u003c/td\u003e\n      \u003ctd\u003e8.0\u003c/td\u003e\n      \u003ctd\u003e74.9\u003c/td\u003e\n      \u003ctd\u003e6.0\u003c/td\u003e\n      \u003ctd\u003e69.55\u003c/td\u003e\n      \u003ctd\u003e6.0\u003c/td\u003e\n      \u003ctd\u003e80.25\u003c/td\u003e\n      \u003ctd\u003e...\u003c/td\u003e\n      \u003ctd\u003e90.95\u003c/td\u003e\n      \u003ctd\u003e2.0\u003c/td\u003e\n      \u003ctd\u003e96.3\u003c/td\u003e\n      \u003ctd\u003e2.0\u003c/td\u003e\n      \u003ctd\u003e96.3\u003c/td\u003e\n      \u003ctd\u003e31.0\u003c/td\u003e\n      \u003ctd\u003e0.0\u003c/td\u003e\n      \u003ctd\u003e48.560466\u003c/td\u003e\n      \u003ctd\u003e107.0\u003c/td\u003e\n      \u003ctd\u003e119.058888\u003c/td\u003e\n    \u003c/tr\u003e\n    \u003ctr\u003e\n      \u003cth\u003e2\u003c/th\u003e\n      \u003ctd\u003e10.0\u003c/td\u003e\n      \u003ctd\u003e51.5\u003c/td\u003e\n      \u003ctd\u003e10.0\u003c/td\u003e\n      \u003ctd\u003e61.8\u003c/td\u003e\n      \u003ctd\u003e8.0\u003c/td\u003e\n      \u003ctd\u003e72.1\u003c/td\u003e\n      \u003ctd\u003e6.0\u003c/td\u003e\n      \u003ctd\u003e66.95\u003c/td\u003e\n      \u003ctd\u003e6.0\u003c/td\u003e\n      \u003ctd\u003e77.25\u003c/td\u003e\n      \u003ctd\u003e...\u003c/td\u003e\n      \u003ctd\u003e87.55\u003c/td\u003e\n      \u003ctd\u003e2.0\u003c/td\u003e\n      \u003ctd\u003e92.7\u003c/td\u003e\n      \u003ctd\u003e2.0\u003c/td\u003e\n      \u003ctd\u003e92.7\u003c/td\u003e\n      \u003ctd\u003e37.0\u003c/td\u003e\n      \u003ctd\u003e0.0\u003c/td\u003e\n      \u003ctd\u003e49.705740\u003c/td\u003e\n      \u003ctd\u003e103.0\u003c/td\u003e\n      \u003ctd\u003e115.063668\u003c/td\u003e\n    \u003c/tr\u003e\n    \u003ctr\u003e\n      \u003cth\u003e3\u003c/th\u003e\n      \u003ctd\u003e10.0\u003c/td\u003e\n      \u003ctd\u003e50.5\u003c/td\u003e\n      \u003ctd\u003e10.0\u003c/td\u003e\n      \u003ctd\u003e60.6\u003c/td\u003e\n      \u003ctd\u003e8.0\u003c/td\u003e\n      \u003ctd\u003e70.7\u003c/td\u003e\n      \u003ctd\u003e6.0\u003c/td\u003e\n      \u003ctd\u003e65.65\u003c/td\u003e\n      \u003ctd\u003e6.0\u003c/td\u003e\n      \u003ctd\u003e75.75\u003c/td\u003e\n      \u003ctd\u003e...\u003c/td\u003e\n      \u003ctd\u003e85.85\u003c/td\u003e\n      \u003ctd\u003e2.0\u003c/td\u003e\n      \u003ctd\u003e90.9\u003c/td\u003e\n      \u003ctd\u003e2.0\u003c/td\u003e\n      \u003ctd\u003e90.9\u003c/td\u003e\n      \u003ctd\u003e26.0\u003c/td\u003e\n      \u003ctd\u003e1.0\u003c/td\u003e\n      \u003ctd\u003e51.601723\u003c/td\u003e\n      \u003ctd\u003e101.0\u003c/td\u003e\n      \u003ctd\u003e113.066189\u003c/td\u003e\n    \u003c/tr\u003e\n    \u003ctr\u003e\n      \u003cth\u003e4\u003c/th\u003e\n      \u003ctd\u003e10.0\u003c/td\u003e\n      \u003ctd\u003e51.0\u003c/td\u003e\n      \u003ctd\u003e10.0\u003c/td\u003e\n      \u003ctd\u003e61.2\u003c/td\u003e\n      \u003ctd\u003e8.0\u003c/td\u003e\n      \u003ctd\u003e71.4\u003c/td\u003e\n      \u003ctd\u003e6.0\u003c/td\u003e\n      \u003ctd\u003e66.30\u003c/td\u003e\n      \u003ctd\u003e6.0\u003c/td\u003e\n      \u003ctd\u003e76.50\u003c/td\u003e\n      \u003ctd\u003e...\u003c/td\u003e\n      \u003ctd\u003e86.70\u003c/td\u003e\n      \u003ctd\u003e2.0\u003c/td\u003e\n      \u003ctd\u003e91.8\u003c/td\u003e\n      \u003ctd\u003e2.0\u003c/td\u003e\n      \u003ctd\u003e91.8\u003c/td\u003e\n      \u003ctd\u003e27.0\u003c/td\u003e\n      \u003ctd\u003e1.0\u003c/td\u003e\n      \u003ctd\u003e53.723642\u003c/td\u003e\n      \u003ctd\u003e102.0\u003c/td\u003e\n      \u003ctd\u003e114.064917\u003c/td\u003e\n    \u003c/tr\u003e\n  \u003c/tbody\u003e\n\u003c/table\u003e\n\u003cp\u003e5 rows × 135 columns\u003c/p\u003e\n\u003c/div\u003e"
          },
          "metadata": {},
          "output_type": "execute_result",
          "execution_count": 11
        }
      ],
      "source": "# Loads raw data and transforms.\n\nindividuals \u003d pd.read_csv(\"./data/GeneratedIndividuals.csv\", sep\u003d\"|\")\nlogs \u003d pd.read_csv(\"./data/program_logs.csv\", sep\u003d\"|\")\n\nlogs.head()\nd \u003d {}\nfor p_id, group in logs.groupby(\u0027ID\u0027):\n    d[str(p_id)] \u003d group\n\nset_count \u003d len(d.get(\"0\"))\n\n# Generate headers\nheaders \u003d []\nfor i in range (set_count):\n    headers.append(f\"rep{i}\")\n    headers.append(f\"weight{i}\")\nheaders.extend([\"Age\", \"Gender\", \"Bodyweight\", \"Preperformance\", \"Performance\"])\n\ndata \u003d pd.DataFrame(columns\u003dheaders)\ndata.columns\n\n# Transform data\nfor index, ind in individuals.iterrows():\n    entry \u003d []\n    p_id \u003d str(ind.get(\"ID\"))\n    \n    for index, row in d.get(p_id).iterrows():\n        entry.append(row[\"Reps\"])\n        entry.append(row[\"Weight\"])\n    \n    entry.append(calculate_age(ind[\"Birth\"]))\n    entry.append(ind[\"Gender\"])\n    entry.append(ind[\"Weight\"])\n    \n    preperformance \u003d d.get(p_id)[\"Performance\"].values[0]\n    postperformance \u003d d.get(p_id)[\"Performance\"].values[-1]\n    entry.append(preperformance)\n    entry.append(postperformance)\n    \n    data \u003d data.append(pd.Series(entry, index\u003ddata.columns), ignore_index\u003dTrue)\n    \ndata.head()\n"
    },
    {
      "cell_type": "code",
      "execution_count": 12,
      "metadata": {
        "pycharm": {}
      },
      "outputs": [
        {
          "data": {
            "text/plain": "    Age  Gender  Bodyweight  Preperformance  Performance\n0  30.0     0.0   51.954571           100.0   112.067484\n1  31.0     0.0   48.560466           107.0   119.058888\n2  37.0     0.0   49.705740           103.0   115.063668\n3  26.0     1.0   51.601723           101.0   113.066189\n4  27.0     1.0   53.723642           102.0   114.064917",
            "text/html": "\u003cdiv\u003e\n\u003cstyle scoped\u003e\n    .dataframe tbody tr th:only-of-type {\n        vertical-align: middle;\n    }\n\n    .dataframe tbody tr th {\n        vertical-align: top;\n    }\n\n    .dataframe thead th {\n        text-align: right;\n    }\n\u003c/style\u003e\n\u003ctable border\u003d\"1\" class\u003d\"dataframe\"\u003e\n  \u003cthead\u003e\n    \u003ctr style\u003d\"text-align: right;\"\u003e\n      \u003cth\u003e\u003c/th\u003e\n      \u003cth\u003eAge\u003c/th\u003e\n      \u003cth\u003eGender\u003c/th\u003e\n      \u003cth\u003eBodyweight\u003c/th\u003e\n      \u003cth\u003ePreperformance\u003c/th\u003e\n      \u003cth\u003ePerformance\u003c/th\u003e\n    \u003c/tr\u003e\n  \u003c/thead\u003e\n  \u003ctbody\u003e\n    \u003ctr\u003e\n      \u003cth\u003e0\u003c/th\u003e\n      \u003ctd\u003e30.0\u003c/td\u003e\n      \u003ctd\u003e0.0\u003c/td\u003e\n      \u003ctd\u003e51.954571\u003c/td\u003e\n      \u003ctd\u003e100.0\u003c/td\u003e\n      \u003ctd\u003e112.067484\u003c/td\u003e\n    \u003c/tr\u003e\n    \u003ctr\u003e\n      \u003cth\u003e1\u003c/th\u003e\n      \u003ctd\u003e31.0\u003c/td\u003e\n      \u003ctd\u003e0.0\u003c/td\u003e\n      \u003ctd\u003e48.560466\u003c/td\u003e\n      \u003ctd\u003e107.0\u003c/td\u003e\n      \u003ctd\u003e119.058888\u003c/td\u003e\n    \u003c/tr\u003e\n    \u003ctr\u003e\n      \u003cth\u003e2\u003c/th\u003e\n      \u003ctd\u003e37.0\u003c/td\u003e\n      \u003ctd\u003e0.0\u003c/td\u003e\n      \u003ctd\u003e49.705740\u003c/td\u003e\n      \u003ctd\u003e103.0\u003c/td\u003e\n      \u003ctd\u003e115.063668\u003c/td\u003e\n    \u003c/tr\u003e\n    \u003ctr\u003e\n      \u003cth\u003e3\u003c/th\u003e\n      \u003ctd\u003e26.0\u003c/td\u003e\n      \u003ctd\u003e1.0\u003c/td\u003e\n      \u003ctd\u003e51.601723\u003c/td\u003e\n      \u003ctd\u003e101.0\u003c/td\u003e\n      \u003ctd\u003e113.066189\u003c/td\u003e\n    \u003c/tr\u003e\n    \u003ctr\u003e\n      \u003cth\u003e4\u003c/th\u003e\n      \u003ctd\u003e27.0\u003c/td\u003e\n      \u003ctd\u003e1.0\u003c/td\u003e\n      \u003ctd\u003e53.723642\u003c/td\u003e\n      \u003ctd\u003e102.0\u003c/td\u003e\n      \u003ctd\u003e114.064917\u003c/td\u003e\n    \u003c/tr\u003e\n  \u003c/tbody\u003e\n\u003c/table\u003e\n\u003c/div\u003e"
          },
          "metadata": {},
          "output_type": "execute_result",
          "execution_count": 12
        }
      ],
      "source": "data \u003d data[[\"Age\", \"Gender\", \"Bodyweight\", \"Preperformance\", \"Performance\"]]\ndata.head()\n"
    },
    {
      "cell_type": "code",
      "execution_count": 13,
      "metadata": {
        "pycharm": {}
      },
      "outputs": [],
      "source": "# Split into training set and testing set.\n\n# Shuffle the dataset.\ndata_shuffled \u003d data.sample(frac\u003d1.0, random_state\u003d0)\n\n# Split into input part X and output part Y.\nX \u003d data_shuffled.drop(\u0027Performance\u0027, axis\u003d1)\n\nY \u003d data_shuffled[\u0027Performance\u0027]\nY.head()\n\n# Partition the data into training and test sets.\nXtrain, Xtest, Ytrain, Ytest \u003d train_test_split(X, Y, test_size\u003d0.2, random_state\u003d0)\n"
    },
    {
      "cell_type": "markdown",
      "metadata": {
        "pycharm": {}
      },
      "source": [
        "## Regular linear regression"
      ]
    },
    {
      "cell_type": "code",
      "execution_count": 14,
      "metadata": {
        "pycharm": {}
      },
      "outputs": [
        {
          "name": "stdout",
          "text": [
            "Mean squared error: 0.00\nCoefficient of determination: 1.00\n"
          ],
          "output_type": "stream"
        }
      ],
      "source": [
        "from sklearn.linear_model import LinearRegression\n",
        "from sklearn.metrics import mean_squared_error, r2_score\n",
        "import matplotlib.pyplot as plt\n",
        "\n",
        "\n",
        "#Träna modellen\n",
        "lr \u003d LinearRegression()\n",
        "lr.fit(Xtrain,Ytrain)\n",
        "\n",
        "#Använd på testsettet\n",
        "Ypred \u003d lr.predict(Xtest)\n",
        "\n",
        "lr_mean_squared_error \u003d mean_squared_error(Ytest, Ypred)\n",
        "lr_r2_score \u003d r2_score(Ytest, Ypred)\n",
        "\n",
        "print_mean_squared_error(lr_mean_squared_error)\n",
        "print_coefficient_of_determination(lr_r2_score)"
      ]
    },
    {
      "cell_type": "markdown",
      "metadata": {
        "pycharm": {}
      },
      "source": [
        "## Ridge regression"
      ]
    },
    {
      "cell_type": "code",
      "execution_count": 15,
      "metadata": {
        "pycharm": {}
      },
      "outputs": [
        {
          "name": "stdout",
          "text": [
            "Mean squared error: 0.00\nCoefficient of determination: 1.00\n"
          ],
          "output_type": "stream"
        }
      ],
      "source": [
        "#Ridge regression\n",
        "from sklearn.linear_model import Ridge\n",
        "ridge \u003d Ridge(alpha\u003d1.0)\n",
        "ridge.fit(Xtrain, Ytrain)\n",
        "# Ridge()\n",
        "ridge_Ypred \u003d ridge.predict(Xtest)\n",
        "\n",
        "\n",
        "ridge_mean_squared_error \u003d mean_squared_error(Ytest, ridge_Ypred)\n",
        "ridge_r2_score \u003d r2_score(Ytest, ridge_Ypred)\n",
        "\n",
        "print_mean_squared_error(ridge_mean_squared_error)\n",
        "print_coefficient_of_determination(ridge_r2_score)"
      ]
    },
    {
      "cell_type": "markdown",
      "metadata": {
        "pycharm": {}
      },
      "source": [
        "## Lasso regression"
      ]
    },
    {
      "cell_type": "code",
      "execution_count": 7,
      "metadata": {
        "pycharm": {}
      },
      "outputs": [
        {
          "name": "stdout",
          "output_type": "stream",
          "text": [
            "Mean squared error: 0.00\n",
            "Coefficient of determination: 1.00\n"
          ]
        }
      ],
      "source": [
        "from sklearn import linear_model\n",
        "lasso \u003d linear_model.Lasso(alpha\u003d0.1)\n",
        "lasso.fit(Xtrain,Ytrain)\n",
        "lasso_Ypred \u003d lasso.predict(Xtest)\n",
        "\n",
        "lasso_mean_squared_error \u003d mean_squared_error(Ytest, lasso_Ypred)\n",
        "lasso_r2_score \u003d r2_score(Ytest, lasso_Ypred)\n",
        "\n",
        "print_mean_squared_error(lasso_mean_squared_error)\n",
        "print_coefficient_of_determination(lasso_r2_score)"
      ]
    },
    {
      "cell_type": "markdown",
      "metadata": {
        "pycharm": {}
      },
      "source": [
        "## Summaries of the results"
      ]
    },
    {
      "cell_type": "code",
      "execution_count": 16,
      "metadata": {
        "scrolled": true,
        "pycharm": {}
      },
      "outputs": [
        {
          "name": "stdout",
          "text": [
            "Normal linear regression:\nMean squared error: 0.00\nCoefficient of determination: 1.00\n\n\nRidge regression:\nMean squared error: 0.00\nCoefficient of determination: 1.00\n\n\nLasso regression:\n"
          ],
          "output_type": "stream"
        },
        {
          "traceback": [
            "\u001b[1;31m---------------------------------------------------------------------------\u001b[0m",
            "\u001b[1;31mNameError\u001b[0m                                 Traceback (most recent call last)",
            "\u001b[1;32m\u003cipython-input-16-ea2733ad756f\u003e\u001b[0m in \u001b[0;36m\u003cmodule\u003e\u001b[1;34m\u001b[0m\n\u001b[0;32m     10\u001b[0m \u001b[1;33m\u001b[0m\u001b[0m\n\u001b[0;32m     11\u001b[0m \u001b[0mprint\u001b[0m\u001b[1;33m(\u001b[0m\u001b[1;34m\"Lasso regression:\"\u001b[0m\u001b[1;33m)\u001b[0m\u001b[1;33m\u001b[0m\u001b[1;33m\u001b[0m\u001b[0m\n\u001b[1;32m---\u003e 12\u001b[1;33m \u001b[0mprint_mean_squared_error\u001b[0m\u001b[1;33m(\u001b[0m\u001b[0mlasso_mean_squared_error\u001b[0m\u001b[1;33m)\u001b[0m\u001b[1;33m\u001b[0m\u001b[1;33m\u001b[0m\u001b[0m\n\u001b[0m\u001b[0;32m     13\u001b[0m \u001b[0mprint_coefficient_of_determination\u001b[0m\u001b[1;33m(\u001b[0m\u001b[0mlasso_r2_score\u001b[0m\u001b[1;33m)\u001b[0m\u001b[1;33m\u001b[0m\u001b[1;33m\u001b[0m\u001b[0m\n\u001b[0;32m     14\u001b[0m \u001b[0mprint\u001b[0m\u001b[1;33m(\u001b[0m\u001b[1;34m\"\\n\"\u001b[0m\u001b[1;33m)\u001b[0m\u001b[1;33m\u001b[0m\u001b[1;33m\u001b[0m\u001b[0m\n",
            "\u001b[1;31mNameError\u001b[0m: name \u0027lasso_mean_squared_error\u0027 is not defined"
          ],
          "ename": "NameError",
          "evalue": "name \u0027lasso_mean_squared_error\u0027 is not defined",
          "output_type": "error"
        }
      ],
      "source": [
        "print(\"Normal linear regression:\")\n",
        "print_mean_squared_error(lr_mean_squared_error)\n",
        "print_coefficient_of_determination(lr_r2_score)\n",
        "print(\"\\n\")\n",
        "\n",
        "print(\"Ridge regression:\")\n",
        "print_mean_squared_error(ridge_mean_squared_error)\n",
        "print_coefficient_of_determination(ridge_r2_score)\n",
        "print(\"\\n\")\n",
        "\n",
        "print(\"Lasso regression:\")\n",
        "print_mean_squared_error(lasso_mean_squared_error)\n",
        "print_coefficient_of_determination(lasso_r2_score)\n",
        "print(\"\\n\")\n",
        "\n",
        "plt.scatter(Xtest[\"Preperformance\"], Ytest, color\u003d\u0027black\u0027)\n",
        "plt.plot(Xtest[\"Preperformance\"], Ypred, color\u003d\u0027blue\u0027, linewidth\u003d1)\n",
        "plt.plot(Xtest[\"Preperformance\"], ridge_Ypred, color\u003d\u0027green\u0027, linewidth\u003d1)\n",
        "plt.plot(Xtest[\"Preperformance\"], lasso_Ypred, color\u003d\u0027red\u0027, linewidth\u003d1)\n",
        "plt.xticks(())\n",
        "plt.yticks(())\n",
        "plt.show()"
      ]
    },
    {
      "cell_type": "markdown",
      "metadata": {
        "pycharm": {}
      },
      "source": [
        "# Save model\n",
        "Saves the choosen model(s) to a file to be used in the recommendation engine."
      ]
    },
    {
      "cell_type": "code",
      "execution_count": 9,
      "metadata": {
        "pycharm": {}
      },
      "outputs": [],
      "source": [
        "import pickle\n",
        "\n",
        "# In the current state of recommendation engine, it is important to name the model after\n",
        "# the program the data comes from. (i.e the name of the csv file in simulator/training_programs)\n",
        "# Should probably make this automatic in some way.\n",
        "\n",
        "filename \u003d \u0027ogasawara_LL.sav\u0027\n",
        "pickle.dump(ridge, open(filename, \u0027wb\u0027))"
      ]
    }
  ],
  "metadata": {
    "kernelspec": {
      "display_name": "Python 3",
      "language": "python",
      "name": "python3"
    },
    "language_info": {
      "codemirror_mode": {
        "name": "ipython",
        "version": 3
      },
      "file_extension": ".py",
      "mimetype": "text/x-python",
      "name": "python",
      "nbconvert_exporter": "python",
      "pygments_lexer": "ipython3",
      "version": "3.7.6"
    }
  },
  "nbformat": 4,
  "nbformat_minor": 4
}