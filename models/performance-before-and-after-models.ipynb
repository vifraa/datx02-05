{
 "cells": [
  {
   "cell_type": "markdown",
   "metadata": {
    "pycharm": {}
   },
   "source": [
    "# Pre-post performance models\n",
    "In this file we are creating models that are based on the dataset that only contain\n",
    "individual parameters and the preperformance and the postperformance."
   ]
  },
  {
   "cell_type": "code",
   "execution_count": 3,
   "metadata": {
    "pycharm": {}
   },
   "outputs": [],
   "source": [
    "import csv\n",
    "from helpers import print_mean_squared_error, print_coefficient_of_determination, calculate_age\n",
    "import pandas as pd\n",
    "import numpy as np\n",
    "from sklearn.model_selection import train_test_split"
   ]
  },
  {
   "cell_type": "code",
   "execution_count": 11,
   "metadata": {
    "pycharm": {}
   },
   "outputs": [
    {
     "data": {
      "text/plain": "   rep0  weight0  rep1  weight1  rep2  weight2  rep3  weight3  rep4  weight4  \\\n0  10.0     50.0  10.0     60.0   8.0     70.0   6.0    65.00   6.0    75.00   \n1  10.0     53.5  10.0     64.2   8.0     74.9   6.0    69.55   6.0    80.25   \n2  10.0     51.5  10.0     61.8   8.0     72.1   6.0    66.95   6.0    77.25   \n3  10.0     50.5  10.0     60.6   8.0     70.7   6.0    65.65   6.0    75.75   \n4  10.0     51.0  10.0     61.2   8.0     71.4   6.0    66.30   6.0    76.50   \n\n   ...  weight62  rep63  weight63  rep64  weight64   Age  Gender  Bodyweight  \\\n0  ...     85.00    2.0      90.0    2.0      90.0  30.0     0.0   51.954571   \n1  ...     90.95    2.0      96.3    2.0      96.3  31.0     0.0   48.560466   \n2  ...     87.55    2.0      92.7    2.0      92.7  37.0     0.0   49.705740   \n3  ...     85.85    2.0      90.9    2.0      90.9  26.0     1.0   51.601723   \n4  ...     86.70    2.0      91.8    2.0      91.8  27.0     1.0   53.723642   \n\n   Preperformance  Performance  \n0           100.0   112.067484  \n1           107.0   119.058888  \n2           103.0   115.063668  \n3           101.0   113.066189  \n4           102.0   114.064917  \n\n[5 rows x 135 columns]",
      "text/html": "<div>\n<style scoped>\n    .dataframe tbody tr th:only-of-type {\n        vertical-align: middle;\n    }\n\n    .dataframe tbody tr th {\n        vertical-align: top;\n    }\n\n    .dataframe thead th {\n        text-align: right;\n    }\n</style>\n<table border=\"1\" class=\"dataframe\">\n  <thead>\n    <tr style=\"text-align: right;\">\n      <th></th>\n      <th>rep0</th>\n      <th>weight0</th>\n      <th>rep1</th>\n      <th>weight1</th>\n      <th>rep2</th>\n      <th>weight2</th>\n      <th>rep3</th>\n      <th>weight3</th>\n      <th>rep4</th>\n      <th>weight4</th>\n      <th>...</th>\n      <th>weight62</th>\n      <th>rep63</th>\n      <th>weight63</th>\n      <th>rep64</th>\n      <th>weight64</th>\n      <th>Age</th>\n      <th>Gender</th>\n      <th>Bodyweight</th>\n      <th>Preperformance</th>\n      <th>Performance</th>\n    </tr>\n  </thead>\n  <tbody>\n    <tr>\n      <th>0</th>\n      <td>10.0</td>\n      <td>50.0</td>\n      <td>10.0</td>\n      <td>60.0</td>\n      <td>8.0</td>\n      <td>70.0</td>\n      <td>6.0</td>\n      <td>65.00</td>\n      <td>6.0</td>\n      <td>75.00</td>\n      <td>...</td>\n      <td>85.00</td>\n      <td>2.0</td>\n      <td>90.0</td>\n      <td>2.0</td>\n      <td>90.0</td>\n      <td>30.0</td>\n      <td>0.0</td>\n      <td>51.954571</td>\n      <td>100.0</td>\n      <td>112.067484</td>\n    </tr>\n    <tr>\n      <th>1</th>\n      <td>10.0</td>\n      <td>53.5</td>\n      <td>10.0</td>\n      <td>64.2</td>\n      <td>8.0</td>\n      <td>74.9</td>\n      <td>6.0</td>\n      <td>69.55</td>\n      <td>6.0</td>\n      <td>80.25</td>\n      <td>...</td>\n      <td>90.95</td>\n      <td>2.0</td>\n      <td>96.3</td>\n      <td>2.0</td>\n      <td>96.3</td>\n      <td>31.0</td>\n      <td>0.0</td>\n      <td>48.560466</td>\n      <td>107.0</td>\n      <td>119.058888</td>\n    </tr>\n    <tr>\n      <th>2</th>\n      <td>10.0</td>\n      <td>51.5</td>\n      <td>10.0</td>\n      <td>61.8</td>\n      <td>8.0</td>\n      <td>72.1</td>\n      <td>6.0</td>\n      <td>66.95</td>\n      <td>6.0</td>\n      <td>77.25</td>\n      <td>...</td>\n      <td>87.55</td>\n      <td>2.0</td>\n      <td>92.7</td>\n      <td>2.0</td>\n      <td>92.7</td>\n      <td>37.0</td>\n      <td>0.0</td>\n      <td>49.705740</td>\n      <td>103.0</td>\n      <td>115.063668</td>\n    </tr>\n    <tr>\n      <th>3</th>\n      <td>10.0</td>\n      <td>50.5</td>\n      <td>10.0</td>\n      <td>60.6</td>\n      <td>8.0</td>\n      <td>70.7</td>\n      <td>6.0</td>\n      <td>65.65</td>\n      <td>6.0</td>\n      <td>75.75</td>\n      <td>...</td>\n      <td>85.85</td>\n      <td>2.0</td>\n      <td>90.9</td>\n      <td>2.0</td>\n      <td>90.9</td>\n      <td>26.0</td>\n      <td>1.0</td>\n      <td>51.601723</td>\n      <td>101.0</td>\n      <td>113.066189</td>\n    </tr>\n    <tr>\n      <th>4</th>\n      <td>10.0</td>\n      <td>51.0</td>\n      <td>10.0</td>\n      <td>61.2</td>\n      <td>8.0</td>\n      <td>71.4</td>\n      <td>6.0</td>\n      <td>66.30</td>\n      <td>6.0</td>\n      <td>76.50</td>\n      <td>...</td>\n      <td>86.70</td>\n      <td>2.0</td>\n      <td>91.8</td>\n      <td>2.0</td>\n      <td>91.8</td>\n      <td>27.0</td>\n      <td>1.0</td>\n      <td>53.723642</td>\n      <td>102.0</td>\n      <td>114.064917</td>\n    </tr>\n  </tbody>\n</table>\n<p>5 rows × 135 columns</p>\n</div>"
     },
     "metadata": {},
     "output_type": "execute_result",
     "execution_count": 11
    }
   ],
   "source": [
    "# Loads raw data and transforms.\n",
    "\n",
    "individuals = pd.read_csv(\"./data/GeneratedIndividuals.csv\", sep=\"|\")\n",
    "logs = pd.read_csv(\"./data/program_logs.csv\", sep=\"|\")\n",
    "\n",
    "logs.head()\n",
    "d = {}\n",
    "for p_id, group in logs.groupby('ID'):\n",
    "    d[str(p_id)] = group\n",
    "\n",
    "set_count = len(d.get(\"0\"))\n",
    "\n",
    "# Generate headers\n",
    "headers = []\n",
    "for i in range (set_count):\n",
    "    headers.append(f\"rep{i}\")\n",
    "    headers.append(f\"weight{i}\")\n",
    "headers.extend([\"Age\", \"Gender\", \"Bodyweight\", \"Preperformance\", \"Performance\"])\n",
    "\n",
    "data = pd.DataFrame(columns=headers)\n",
    "data.columns\n",
    "\n",
    "# Transform data\n",
    "for index, ind in individuals.iterrows():\n",
    "    entry = []\n",
    "    p_id = str(ind.get(\"ID\"))\n",
    "    \n",
    "    for index, row in d.get(p_id).iterrows():\n",
    "        entry.append(row[\"Reps\"])\n",
    "        entry.append(row[\"Weight\"])\n",
    "    \n",
    "    entry.append(calculate_age(ind[\"Birth\"]))\n",
    "    entry.append(ind[\"Gender\"])\n",
    "    entry.append(ind[\"Weight\"])\n",
    "    \n",
    "    preperformance = d.get(p_id)[\"Performance\"].values[0]\n",
    "    postperformance = d.get(p_id)[\"Performance\"].values[-1]\n",
    "    entry.append(preperformance)\n",
    "    entry.append(postperformance)\n",
    "    \n",
    "    data = data.append(pd.Series(entry, index=data.columns), ignore_index=True)\n",
    "    \n",
    "data.head()\n"
   ]
  },
  {
   "cell_type": "code",
   "execution_count": 12,
   "metadata": {
    "pycharm": {}
   },
   "outputs": [
    {
     "data": {
      "text/plain": "    Age  Gender  Bodyweight  Preperformance  Performance\n0  30.0     0.0   51.954571           100.0   112.067484\n1  31.0     0.0   48.560466           107.0   119.058888\n2  37.0     0.0   49.705740           103.0   115.063668\n3  26.0     1.0   51.601723           101.0   113.066189\n4  27.0     1.0   53.723642           102.0   114.064917",
      "text/html": "<div>\n<style scoped>\n    .dataframe tbody tr th:only-of-type {\n        vertical-align: middle;\n    }\n\n    .dataframe tbody tr th {\n        vertical-align: top;\n    }\n\n    .dataframe thead th {\n        text-align: right;\n    }\n</style>\n<table border=\"1\" class=\"dataframe\">\n  <thead>\n    <tr style=\"text-align: right;\">\n      <th></th>\n      <th>Age</th>\n      <th>Gender</th>\n      <th>Bodyweight</th>\n      <th>Preperformance</th>\n      <th>Performance</th>\n    </tr>\n  </thead>\n  <tbody>\n    <tr>\n      <th>0</th>\n      <td>30.0</td>\n      <td>0.0</td>\n      <td>51.954571</td>\n      <td>100.0</td>\n      <td>112.067484</td>\n    </tr>\n    <tr>\n      <th>1</th>\n      <td>31.0</td>\n      <td>0.0</td>\n      <td>48.560466</td>\n      <td>107.0</td>\n      <td>119.058888</td>\n    </tr>\n    <tr>\n      <th>2</th>\n      <td>37.0</td>\n      <td>0.0</td>\n      <td>49.705740</td>\n      <td>103.0</td>\n      <td>115.063668</td>\n    </tr>\n    <tr>\n      <th>3</th>\n      <td>26.0</td>\n      <td>1.0</td>\n      <td>51.601723</td>\n      <td>101.0</td>\n      <td>113.066189</td>\n    </tr>\n    <tr>\n      <th>4</th>\n      <td>27.0</td>\n      <td>1.0</td>\n      <td>53.723642</td>\n      <td>102.0</td>\n      <td>114.064917</td>\n    </tr>\n  </tbody>\n</table>\n</div>"
     },
     "metadata": {},
     "output_type": "execute_result",
     "execution_count": 12
    }
   ],
   "source": [
    "data = data[[\"Age\", \"Gender\", \"Bodyweight\", \"Preperformance\", \"Performance\"]]\n",
    "data.head()\n"
   ]
  },
  {
   "cell_type": "code",
   "execution_count": 20,
   "metadata": {
    "pycharm": {}
   },
   "outputs": [],
   "source": [
    "# Split into training set and testing set.\n",
    "\n",
    "# Read the CSV file.\n",
    "data = pd.read_csv(\"./data/regression_dataframe_medium.csv\")\n",
    "\n",
    "# Shuffle the dataset.\n",
    "data_shuffled = data.sample(frac=1.0, random_state=0)\n",
    "\n",
    "# Split into input part X and output part Y.\n",
    "X = data_shuffled.drop('Performance', axis=1)\n",
    "\n",
    "Y = data_shuffled['Performance']\n",
    "Y.head()\n",
    "\n",
    "# Partition the data into training and test sets.\n",
    "Xtrain, Xtest, Ytrain, Ytest = train_test_split(X, Y, test_size=0.2, random_state=0)\n"
   ]
  },
  {
   "cell_type": "code",
   "execution_count": 21,
   "outputs": [
    {
     "data": {
      "text/plain": "   rep0  weight0  rep1  weight1  rep2  weight2  rep3  weight3  rep4  weight4  \\\n0  10.0     50.0  10.0     60.0   8.0     70.0   6.0    65.00   6.0    75.00   \n1  10.0     53.5  10.0     64.2   8.0     74.9   6.0    69.55   6.0    80.25   \n2  10.0     51.5  10.0     61.8   8.0     72.1   6.0    66.95   6.0    77.25   \n3  10.0     50.5  10.0     60.6   8.0     70.7   6.0    65.65   6.0    75.75   \n4  10.0     51.0  10.0     61.2   8.0     71.4   6.0    66.30   6.0    76.50   \n\n   ...  weight62  rep63  weight63  rep64  weight64   Age  Gender  Bodyweight  \\\n0  ...     85.00    2.0      90.0    2.0      90.0  30.0     0.0   51.954571   \n1  ...     90.95    2.0      96.3    2.0      96.3  31.0     0.0   48.560466   \n2  ...     87.55    2.0      92.7    2.0      92.7  37.0     0.0   49.705740   \n3  ...     85.85    2.0      90.9    2.0      90.9  26.0     1.0   51.601723   \n4  ...     86.70    2.0      91.8    2.0      91.8  27.0     1.0   53.723642   \n\n   Preperformance  Performance  \n0           100.0   112.067484  \n1           107.0   119.058888  \n2           103.0   115.063668  \n3           101.0   113.066189  \n4           102.0   114.064917  \n\n[5 rows x 135 columns]",
      "text/html": "<div>\n<style scoped>\n    .dataframe tbody tr th:only-of-type {\n        vertical-align: middle;\n    }\n\n    .dataframe tbody tr th {\n        vertical-align: top;\n    }\n\n    .dataframe thead th {\n        text-align: right;\n    }\n</style>\n<table border=\"1\" class=\"dataframe\">\n  <thead>\n    <tr style=\"text-align: right;\">\n      <th></th>\n      <th>rep0</th>\n      <th>weight0</th>\n      <th>rep1</th>\n      <th>weight1</th>\n      <th>rep2</th>\n      <th>weight2</th>\n      <th>rep3</th>\n      <th>weight3</th>\n      <th>rep4</th>\n      <th>weight4</th>\n      <th>...</th>\n      <th>weight62</th>\n      <th>rep63</th>\n      <th>weight63</th>\n      <th>rep64</th>\n      <th>weight64</th>\n      <th>Age</th>\n      <th>Gender</th>\n      <th>Bodyweight</th>\n      <th>Preperformance</th>\n      <th>Performance</th>\n    </tr>\n  </thead>\n  <tbody>\n    <tr>\n      <th>0</th>\n      <td>10.0</td>\n      <td>50.0</td>\n      <td>10.0</td>\n      <td>60.0</td>\n      <td>8.0</td>\n      <td>70.0</td>\n      <td>6.0</td>\n      <td>65.00</td>\n      <td>6.0</td>\n      <td>75.00</td>\n      <td>...</td>\n      <td>85.00</td>\n      <td>2.0</td>\n      <td>90.0</td>\n      <td>2.0</td>\n      <td>90.0</td>\n      <td>30.0</td>\n      <td>0.0</td>\n      <td>51.954571</td>\n      <td>100.0</td>\n      <td>112.067484</td>\n    </tr>\n    <tr>\n      <th>1</th>\n      <td>10.0</td>\n      <td>53.5</td>\n      <td>10.0</td>\n      <td>64.2</td>\n      <td>8.0</td>\n      <td>74.9</td>\n      <td>6.0</td>\n      <td>69.55</td>\n      <td>6.0</td>\n      <td>80.25</td>\n      <td>...</td>\n      <td>90.95</td>\n      <td>2.0</td>\n      <td>96.3</td>\n      <td>2.0</td>\n      <td>96.3</td>\n      <td>31.0</td>\n      <td>0.0</td>\n      <td>48.560466</td>\n      <td>107.0</td>\n      <td>119.058888</td>\n    </tr>\n    <tr>\n      <th>2</th>\n      <td>10.0</td>\n      <td>51.5</td>\n      <td>10.0</td>\n      <td>61.8</td>\n      <td>8.0</td>\n      <td>72.1</td>\n      <td>6.0</td>\n      <td>66.95</td>\n      <td>6.0</td>\n      <td>77.25</td>\n      <td>...</td>\n      <td>87.55</td>\n      <td>2.0</td>\n      <td>92.7</td>\n      <td>2.0</td>\n      <td>92.7</td>\n      <td>37.0</td>\n      <td>0.0</td>\n      <td>49.705740</td>\n      <td>103.0</td>\n      <td>115.063668</td>\n    </tr>\n    <tr>\n      <th>3</th>\n      <td>10.0</td>\n      <td>50.5</td>\n      <td>10.0</td>\n      <td>60.6</td>\n      <td>8.0</td>\n      <td>70.7</td>\n      <td>6.0</td>\n      <td>65.65</td>\n      <td>6.0</td>\n      <td>75.75</td>\n      <td>...</td>\n      <td>85.85</td>\n      <td>2.0</td>\n      <td>90.9</td>\n      <td>2.0</td>\n      <td>90.9</td>\n      <td>26.0</td>\n      <td>1.0</td>\n      <td>51.601723</td>\n      <td>101.0</td>\n      <td>113.066189</td>\n    </tr>\n    <tr>\n      <th>4</th>\n      <td>10.0</td>\n      <td>51.0</td>\n      <td>10.0</td>\n      <td>61.2</td>\n      <td>8.0</td>\n      <td>71.4</td>\n      <td>6.0</td>\n      <td>66.30</td>\n      <td>6.0</td>\n      <td>76.50</td>\n      <td>...</td>\n      <td>86.70</td>\n      <td>2.0</td>\n      <td>91.8</td>\n      <td>2.0</td>\n      <td>91.8</td>\n      <td>27.0</td>\n      <td>1.0</td>\n      <td>53.723642</td>\n      <td>102.0</td>\n      <td>114.064917</td>\n    </tr>\n  </tbody>\n</table>\n<p>5 rows × 135 columns</p>\n</div>"
     },
     "metadata": {},
     "output_type": "execute_result",
     "execution_count": 21
    }
   ],
   "source": [
    "data.head()\n"
   ],
   "metadata": {
    "pycharm": {
     "metadata": false,
     "name": "#%%\n"
    }
   }
  },
  {
   "cell_type": "markdown",
   "metadata": {
    "pycharm": {
     "name": "#%% md\n"
    }
   },
   "source": [
    "## Regular linear regression"
   ]
  },
  {
   "cell_type": "code",
   "execution_count": 24,
   "metadata": {
    "pycharm": {
     "name": "#%%\n"
    }
   },
   "outputs": [
    {
     "name": "stdout",
     "text": [
      "Mean squared error: 0.00\nCoefficient of determination: 1.00\n"
     ],
     "output_type": "stream"
    }
   ],
   "source": [
    "from sklearn.linear_model import LinearRegression\n",
    "from sklearn.metrics import mean_squared_error, r2_score\n",
    "import matplotlib.pyplot as plt\n",
    "\n",
    "\n",
    "#Träna modellen\n",
    "lr = LinearRegression()\n",
    "lr.fit(Xtrain,Ytrain)\n",
    "\n",
    "#Använd på testsettet\n",
    "Ypred = lr.predict(Xtest)\n",
    "\n",
    "lr_mean_squared_error = mean_squared_error(Ytest, Ypred)\n",
    "lr_r2_score = r2_score(Ytest, Ypred)\n",
    "\n",
    "print_mean_squared_error(lr_mean_squared_error)\n",
    "print_coefficient_of_determination(lr_r2_score)"
   ]
  },
  {
   "cell_type": "markdown",
   "metadata": {
    "pycharm": {
     "name": "#%% md\n"
    }
   },
   "source": [
    "## Ridge regression"
   ]
  },
  {
   "cell_type": "code",
   "execution_count": 25,
   "metadata": {
    "pycharm": {
     "name": "#%%\n"
    }
   },
   "outputs": [
    {
     "name": "stdout",
     "text": [
      "Mean squared error: 0.00\nCoefficient of determination: 1.00\n"
     ],
     "output_type": "stream"
    }
   ],
   "source": [
    "#Ridge regression\n",
    "from sklearn.linear_model import Ridge\n",
    "ridge = Ridge(alpha=1.0)\n",
    "ridge.fit(Xtrain, Ytrain)\n",
    "# Ridge()\n",
    "ridge_Ypred = ridge.predict(Xtest)\n",
    "\n",
    "\n",
    "ridge_mean_squared_error = mean_squared_error(Ytest, ridge_Ypred)\n",
    "ridge_r2_score = r2_score(Ytest, ridge_Ypred)\n",
    "\n",
    "print_mean_squared_error(ridge_mean_squared_error)\n",
    "print_coefficient_of_determination(ridge_r2_score)"
   ]
  },
  {
   "cell_type": "markdown",
   "metadata": {
    "pycharm": {
     "name": "#%% md\n"
    }
   },
   "source": [
    "## Lasso regression"
   ]
  },
  {
   "cell_type": "code",
   "execution_count": 26,
   "metadata": {
    "pycharm": {
     "name": "#%%\n"
    }
   },
   "outputs": [
    {
     "name": "stdout",
     "text": [
      "Mean squared error: 0.00\nCoefficient of determination: 1.00\n"
     ],
     "output_type": "stream"
    },
    {
     "name": "stderr",
     "text": [
      "c:\\users\\razan\\modell\\lib\\site-packages\\sklearn\\linear_model\\_coordinate_descent.py:476: ConvergenceWarning: Objective did not converge. You might want to increase the number of iterations. Duality gap: 32.92447103732094, tolerance: 10.13388673358608\n  positive)\n"
     ],
     "output_type": "stream"
    }
   ],
   "source": [
    "from sklearn import linear_model\n",
    "lasso = linear_model.Lasso(alpha=0.1)\n",
    "lasso.fit(Xtrain,Ytrain)\n",
    "lasso_Ypred = lasso.predict(Xtest)\n",
    "\n",
    "lasso_mean_squared_error = mean_squared_error(Ytest, lasso_Ypred)\n",
    "lasso_r2_score = r2_score(Ytest, lasso_Ypred)\n",
    "\n",
    "print_mean_squared_error(lasso_mean_squared_error)\n",
    "print_coefficient_of_determination(lasso_r2_score)"
   ]
  },
  {
   "cell_type": "markdown",
   "metadata": {
    "pycharm": {
     "name": "#%% md\n"
    }
   },
   "source": [
    "## Summaries of the results"
   ]
  },
  {
   "cell_type": "code",
   "execution_count": null,
   "outputs": [],
   "source": [
    "print(\"Normal linear regression:\")\n",
    "print_mean_squared_error(lr_mean_squared_error)\n",
    "print_coefficient_of_determination(lr_r2_score)\n",
    "print(\"\\n\")\n",
    "\n",
    "print(\"Ridge regression:\")\n",
    "print_mean_squared_error(ridge_mean_squared_error)\n",
    "print_coefficient_of_determination(ridge_r2_score)\n",
    "print(\"\\n\")\n",
    "\n",
    "print(\"Lasso regression:\")\n",
    "print_mean_squared_error(lasso_mean_squared_error)\n",
    "print_coefficient_of_determination(lasso_r2_score)\n",
    "print(\"\\n\")\n",
    "\n",
    "plt.scatter(Xtest[\"Preperformance\"], Ytest, color='black')\n",
    "plt.plot(Xtest[\"Preperformance\"], Ypred, color='blue', linewidth=1)\n",
    "plt.plot(Xtest[\"Preperformance\"], ridge_Ypred, color='green', linewidth=1)\n",
    "plt.plot(Xtest[\"Preperformance\"], lasso_Ypred, color='red', linewidth=1)\n",
    "plt.xticks(())\n",
    "plt.yticks(())\n",
    "plt.show()"
   ],
   "metadata": {
    "collapsed": false,
    "pycharm": {
     "name": "#%%\n"
    }
   }
  },
  {
   "cell_type": "markdown",
   "source": [
    "# Save model\n",
    "Saves the choosen model(s) to a file to be used in the recommendation engine."
   ],
   "metadata": {
    "collapsed": false
   }
  },
  {
   "cell_type": "code",
   "execution_count": null,
   "outputs": [],
   "source": [
    "import pickle\n",
    "\n",
    "# In the current state of recommendation engine, it is important to name the model after\n",
    "# the program the data comes from. (i.e the name of the csv file in simulator/training_programs)\n",
    "# Should probably make this automatic in some way.\n",
    "\n",
    "filename = 'ogasawara_LL.sav'\n",
    "pickle.dump(ridge, open(filename, 'wb'))"
   ],
   "metadata": {
    "collapsed": false,
    "pycharm": {
     "name": "#%%\n"
    }
   }
  },
  {
   "cell_type": "code",
   "execution_count": 27,
   "metadata": {
    "scrolled": true,
    "pycharm": {}
   },
   "outputs": [
    {
     "name": "stdout",
     "text": [
      "Normal linear regression:\nMean squared error: 0.00\nCoefficient of determination: 1.00\n\n\nRidge regression:\nMean squared error: 0.00\nCoefficient of determination: 1.00\n\n\nLasso regression:\nMean squared error: 0.00\nCoefficient of determination: 1.00\n\n\n"
     ],
     "output_type": "stream"
    },
    {
     "data": {
      "text/plain": "<Figure size 432x288 with 1 Axes>",
      "image/png": "[encoded data removed]"
     },
     "metadata": {},
     "output_type": "display_data"
    }
   ],
   "source": [
    "import pickle\n",
    "\n",
    "# In the current state of recommendation engine, it is important to name the model after\n",
    "# the program the data comes from. (i.e the name of the csv file in simulator/training_programs)\n",
    "# Should probably make this automatic in some way.\n",
    "\n",
    "filename = 'ogasawara_LL.sav'\n",
    "pickle.dump(ridge, open(filename, 'wb'))"
   ]
  },
  {
   "cell_type": "markdown",
   "metadata": {
    "pycharm": {}
   },
   "source": [
    "# Save model\n",
    "Saves the choosen model(s) to a file to be used in the recommendation engine."
   ]
  },
  {
   "cell_type": "code",
   "execution_count": 9,
   "metadata": {
    "pycharm": {}
   },
   "outputs": [],
   "source": [
    "import pickle\n",
    "\n",
    "# In the current state of recommendation engine, it is important to name the model after\n",
    "# the program the data comes from. (i.e the name of the csv file in simulator/training_programs)\n",
    "# Should probably make this automatic in some way.\n",
    "\n",
    "filename = 'ogasawara_LL.sav'\n",
    "pickle.dump(ridge, open(filename, 'wb'))"
   ]
  }
 ],
 "metadata": {
  "kernelspec": {
   "display_name": "Python 3",
   "language": "python",
   "name": "python3"
  },
  "language_info": {
   "codemirror_mode": {
    "name": "ipython",
    "version": 3
   },
   "file_extension": ".py",
   "mimetype": "text/x-python",
   "name": "python",
   "nbconvert_exporter": "python",
   "pygments_lexer": "ipython3",
   "version": "3.7.6"
  },
  "pycharm": {
   "stem_cell": {
    "cell_type": "raw",
    "source": [],
    "metadata": {
     "collapsed": false
    }
   }
  }
 },
 "nbformat": 4,
 "nbformat_minor": 4
}