{
 "cells": [
  {
   "cell_type": "markdown",
   "metadata": {
    "colab_type": "text",
    "id": "wZV-fdZWnZU3"
   },
   "source": [
    "# 4 weeks training tonnage models\n",
    "In this file we are creating models that are based on the dataset that only contain\n",
    "individual parameters and the preperformance and the postperformance."
   ]
  },
  {
   "cell_type": "code",
   "execution_count": 1,
   "metadata": {
    "colab": {},
    "colab_type": "code",
    "id": "w39scQ1hnZU7",
    "pycharm": {
     "is_executing": false
    }
   },
   "outputs": [],
   "source": [
    "from helpers import print_mean_squared_error, print_coefficient_of_determination, calculate_age\n",
    "import pandas as pd\n",
    "import numpy as np\n",
    "from sklearn.model_selection import train_test_split\n",
    "from io import StringIO\n",
    "import csv\n",
    "\n",
    "import sys\n",
    "sys.path.append('../recengine/data_parser.py')\n",
    "from data_parser import ttrdata_from_csv_population_4_weeks\n"
   ]
  },
  {
   "cell_type": "code",
   "execution_count": 2,
   "metadata": {
    "colab": {
     "base_uri": "https://localhost:8080/",
     "height": 238
    },
    "colab_type": "code",
    "id": "xOCFo-KFnZVJ",
    "outputId": "9b30f1e8-5b55-4cbc-d1c0-3153c5ef8e6b",
    "pycharm": {
     "is_executing": false
    }
   },
   "outputs": [
    {
     "data": {
      "text/html": [
       "<div>\n",
       "<style scoped>\n",
       "    .dataframe tbody tr th:only-of-type {\n",
       "        vertical-align: middle;\n",
       "    }\n",
       "\n",
       "    .dataframe tbody tr th {\n",
       "        vertical-align: top;\n",
       "    }\n",
       "\n",
       "    .dataframe thead th {\n",
       "        text-align: right;\n",
       "    }\n",
       "</style>\n",
       "<table border=\"1\" class=\"dataframe\">\n",
       "  <thead>\n",
       "    <tr style=\"text-align: right;\">\n",
       "      <th></th>\n",
       "      <th>load_week1</th>\n",
       "      <th>max_week1</th>\n",
       "      <th>load_week2</th>\n",
       "      <th>max_week2</th>\n",
       "      <th>load_week3</th>\n",
       "      <th>max_week3</th>\n",
       "      <th>load_week4</th>\n",
       "      <th>max_week4</th>\n",
       "      <th>Performance</th>\n",
       "    </tr>\n",
       "  </thead>\n",
       "  <tbody>\n",
       "    <tr>\n",
       "      <th>0</th>\n",
       "      <td>6480.0</td>\n",
       "      <td>96.0</td>\n",
       "      <td>6480.0</td>\n",
       "      <td>96.0</td>\n",
       "      <td>6480.0</td>\n",
       "      <td>96.0</td>\n",
       "      <td>6480.0</td>\n",
       "      <td>96.0</td>\n",
       "      <td>133.920162</td>\n",
       "    </tr>\n",
       "    <tr>\n",
       "      <th>1</th>\n",
       "      <td>7290.0</td>\n",
       "      <td>108.0</td>\n",
       "      <td>7290.0</td>\n",
       "      <td>108.0</td>\n",
       "      <td>7290.0</td>\n",
       "      <td>108.0</td>\n",
       "      <td>7290.0</td>\n",
       "      <td>108.0</td>\n",
       "      <td>146.629836</td>\n",
       "    </tr>\n",
       "    <tr>\n",
       "      <th>2</th>\n",
       "      <td>6817.5</td>\n",
       "      <td>101.0</td>\n",
       "      <td>6817.5</td>\n",
       "      <td>101.0</td>\n",
       "      <td>6817.5</td>\n",
       "      <td>101.0</td>\n",
       "      <td>6817.5</td>\n",
       "      <td>101.0</td>\n",
       "      <td>139.230566</td>\n",
       "    </tr>\n",
       "    <tr>\n",
       "      <th>3</th>\n",
       "      <td>7155.0</td>\n",
       "      <td>106.0</td>\n",
       "      <td>7155.0</td>\n",
       "      <td>106.0</td>\n",
       "      <td>7155.0</td>\n",
       "      <td>106.0</td>\n",
       "      <td>7155.0</td>\n",
       "      <td>106.0</td>\n",
       "      <td>144.519665</td>\n",
       "    </tr>\n",
       "    <tr>\n",
       "      <th>4</th>\n",
       "      <td>6345.0</td>\n",
       "      <td>94.0</td>\n",
       "      <td>6345.0</td>\n",
       "      <td>94.0</td>\n",
       "      <td>6345.0</td>\n",
       "      <td>94.0</td>\n",
       "      <td>6345.0</td>\n",
       "      <td>94.0</td>\n",
       "      <td>131.789482</td>\n",
       "    </tr>\n",
       "  </tbody>\n",
       "</table>\n",
       "</div>"
      ],
      "text/plain": [
       "   load_week1  max_week1  load_week2  max_week2  load_week3  max_week3  \\\n",
       "0      6480.0       96.0      6480.0       96.0      6480.0       96.0   \n",
       "1      7290.0      108.0      7290.0      108.0      7290.0      108.0   \n",
       "2      6817.5      101.0      6817.5      101.0      6817.5      101.0   \n",
       "3      7155.0      106.0      7155.0      106.0      7155.0      106.0   \n",
       "4      6345.0       94.0      6345.0       94.0      6345.0       94.0   \n",
       "\n",
       "   load_week4  max_week4  Performance  \n",
       "0      6480.0       96.0   133.920162  \n",
       "1      7290.0      108.0   146.629836  \n",
       "2      6817.5      101.0   139.230566  \n",
       "3      7155.0      106.0   144.519665  \n",
       "4      6345.0       94.0   131.789482  "
      ]
     },
     "execution_count": 2,
     "metadata": {},
     "output_type": "execute_result"
    }
   ],
   "source": [
    "# Loads raw data and transforms.\n",
    "logs = pd.read_csv(\"./data/ogasawara_HL/logs.csv\", sep=\"|\")\n",
    "\n",
    "# Calculate TTR_DATA based on pre-logs.\n",
    "ttr_data = ttrdata_from_csv_population_4_weeks(\"./data/ogasawara_HL/pre_logs.csv\")\n",
    "\n",
    "post_logs = {}\n",
    "for p_id, group in logs.groupby('ID'):\n",
    "    post_logs[str(p_id)] = group\n",
    "\n",
    "\n",
    "headers = [\"load_week1\", \"max_week1\", \"load_week2\", \"max_week2\", \"load_week3\", \"max_week3\", \"load_week4\", \"max_week4\", \"Performance\"]\n",
    "\n",
    "data = pd.DataFrame(columns=headers)\n",
    "\n",
    "\n",
    "for index, row in ttr_data.iterrows():\n",
    "    p_id = row[\"id\"]\n",
    "    ttr = row.drop(\"id\").values.tolist()\n",
    "    \n",
    "    postperformance = post_logs.get(p_id)[\"Performance\"].values[-1]\n",
    "    ttr.append(postperformance)\n",
    "    \n",
    "    data = data.append(pd.Series(ttr, index=data.columns), ignore_index=True)\n",
    "    \n",
    "    \n",
    "    \n",
    "data.head()\n"
   ]
  },
  {
   "cell_type": "code",
   "execution_count": 3,
   "metadata": {
    "colab": {},
    "colab_type": "code",
    "id": "2kXzC3dWnZVh",
    "outputId": "4af516f2-363d-4b6f-fa6c-442ec03f2990",
    "pycharm": {
     "is_executing": false
    }
   },
   "outputs": [],
   "source": [
    "# Split into training set and testing set.\n",
    "\n",
    "# Shuffle the dataset.\n",
    "data_shuffled = data.sample(frac=1.0, random_state=0)\n",
    "\n",
    "# Split into input part X and output part Y.\n",
    "X = data_shuffled.drop('Performance', axis=1)\n",
    "\n",
    "Y = data_shuffled['Performance']\n",
    "Y.head()\n",
    "\n",
    "# Partition the data into training and test sets.\n",
    "Xtrain, Xtest, Ytrain, Ytest = train_test_split(X, Y, test_size=0.2, random_state=0)\n"
   ]
  },
  {
   "cell_type": "markdown",
   "metadata": {
    "colab_type": "text",
    "id": "T0_IzeovnZVr"
   },
   "source": [
    "## Regular linear regression"
   ]
  },
  {
   "cell_type": "code",
   "execution_count": 4,
   "metadata": {
    "colab": {},
    "colab_type": "code",
    "id": "AVcowjHxnZVt",
    "outputId": "8538a378-34ac-4a55-d4cf-ac3696ecac52"
   },
   "outputs": [
    {
     "name": "stdout",
     "output_type": "stream",
     "text": [
      "Mean squared error: 0.00\n",
      "Coefficient of determination: 1.00\n"
     ]
    }
   ],
   "source": [
    "from sklearn.linear_model import LinearRegression\n",
    "from sklearn.metrics import mean_squared_error, r2_score\n",
    "import matplotlib.pyplot as plt\n",
    "\n",
    "\n",
    "#Träna modellen\n",
    "lr = LinearRegression()\n",
    "lr.fit(Xtrain,Ytrain)\n",
    "\n",
    "#Använd på testsettet\n",
    "Ypred = lr.predict(Xtest)\n",
    "\n",
    "lr_mean_squared_error = mean_squared_error(Ytest, Ypred)\n",
    "lr_r2_score = r2_score(Ytest, Ypred)\n",
    "\n",
    "print_mean_squared_error(lr_mean_squared_error)\n",
    "print_coefficient_of_determination(lr_r2_score)"
   ]
  },
  {
   "cell_type": "markdown",
   "metadata": {
    "colab_type": "text",
    "id": "Y7VCvX2bnZV3"
   },
   "source": [
    "## Ridge regression"
   ]
  },
  {
   "cell_type": "code",
   "execution_count": 5,
   "metadata": {
    "colab": {},
    "colab_type": "code",
    "id": "AAgo_3fgnZV5",
    "outputId": "599a5dd0-0159-4e26-dd93-e77ad7121b1c"
   },
   "outputs": [
    {
     "name": "stdout",
     "output_type": "stream",
     "text": [
      "Mean squared error: 0.00\n",
      "Coefficient of determination: 1.00\n"
     ]
    }
   ],
   "source": [
    "#Ridge regression\n",
    "from sklearn.linear_model import Ridge\n",
    "ridge = Ridge(alpha=1.0)\n",
    "ridge.fit(Xtrain, Ytrain)\n",
    "# Ridge()\n",
    "ridge_Ypred = ridge.predict(Xtest)\n",
    "\n",
    "\n",
    "ridge_mean_squared_error = mean_squared_error(Ytest, ridge_Ypred)\n",
    "ridge_r2_score = r2_score(Ytest, ridge_Ypred)\n",
    "\n",
    "print_mean_squared_error(ridge_mean_squared_error)\n",
    "print_coefficient_of_determination(ridge_r2_score)"
   ]
  },
  {
   "cell_type": "markdown",
   "metadata": {
    "colab_type": "text",
    "id": "xUkZ4FcInZWE"
   },
   "source": [
    "## Lasso regression"
   ]
  },
  {
   "cell_type": "code",
   "execution_count": 6,
   "metadata": {
    "colab": {},
    "colab_type": "code",
    "id": "RKIuwxDJnZWG",
    "outputId": "3ca43843-4674-4335-d7ec-e20e4d27de65",
    "pycharm": {
     "is_executing": false
    }
   },
   "outputs": [
    {
     "name": "stdout",
     "output_type": "stream",
     "text": [
      "Mean squared error: 0.00\n",
      "Coefficient of determination: 1.00\n"
     ]
    }
   ],
   "source": [
    "from sklearn import linear_model\n",
    "lasso = linear_model.Lasso(alpha=0.1)\n",
    "lasso.fit(Xtrain,Ytrain)\n",
    "lasso_Ypred = lasso.predict(Xtest)\n",
    "\n",
    "lasso_mean_squared_error = mean_squared_error(Ytest, lasso_Ypred)\n",
    "lasso_r2_score = r2_score(Ytest, lasso_Ypred)\n",
    "\n",
    "print_mean_squared_error(lasso_mean_squared_error)\n",
    "print_coefficient_of_determination(lasso_r2_score)"
   ]
  },
  {
   "cell_type": "markdown",
   "metadata": {
    "colab_type": "text",
    "id": "qKzGv5fNnZWQ"
   },
   "source": [
    "## Summaries of the results"
   ]
  },
  {
   "cell_type": "code",
   "execution_count": 8,
   "metadata": {
    "colab": {},
    "colab_type": "code",
    "id": "6ZGexTc-nZWS",
    "outputId": "05a76432-83eb-4dd8-eb58-c87f94645038",
    "scrolled": true
   },
   "outputs": [
    {
     "name": "stdout",
     "output_type": "stream",
     "text": [
      "Normal linear regression:\n",
      "Mean squared error: 0.00\n",
      "Coefficient of determination: 1.00\n",
      "\n",
      "\n",
      "Ridge regression:\n",
      "Mean squared error: 0.00\n",
      "Coefficient of determination: 1.00\n",
      "\n",
      "\n",
      "Lasso regression:\n",
      "Mean squared error: 0.00\n",
      "Coefficient of determination: 1.00\n",
      "\n",
      "\n"
     ]
    }
   ],
   "source": [
    "print(\"Normal linear regression:\")\n",
    "print_mean_squared_error(lr_mean_squared_error)\n",
    "print_coefficient_of_determination(lr_r2_score)\n",
    "print(\"\\n\")\n",
    "\n",
    "print(\"Ridge regression:\")\n",
    "print_mean_squared_error(ridge_mean_squared_error)\n",
    "print_coefficient_of_determination(ridge_r2_score)\n",
    "print(\"\\n\")\n",
    "\n",
    "print(\"Lasso regression:\")\n",
    "print_mean_squared_error(lasso_mean_squared_error)\n",
    "print_coefficient_of_determination(lasso_r2_score)\n",
    "print(\"\\n\")"
   ]
  },
  {
   "cell_type": "markdown",
   "metadata": {
    "colab_type": "text",
    "id": "JFSsl1_qnZWb"
   },
   "source": [
    "# Save model\n",
    "Saves the choosen model(s) to a file to be used in the recommendation engine."
   ]
  },
  {
   "cell_type": "code",
   "execution_count": null,
   "metadata": {
    "colab": {},
    "colab_type": "code",
    "id": "bf5Ndl9BnZWc"
   },
   "outputs": [],
   "source": [
    "import pickle\n",
    "\n",
    "# In the current state of recommendation engine, it is important to name the model after\n",
    "# the program the data comes from. (i.e the name of the csv file in simulator/training_programs)\n",
    "# Should probably make this automatic in some way.\n",
    "\n",
    "filename = 'ogasawara_HL.sav'\n",
    "pickle.dump(ridge, open(filename, 'wb'))"
   ]
  }
 ],
 "metadata": {
  "colab": {
   "collapsed_sections": [],
   "name": "performance-before-and-after-models.ipynb",
   "provenance": []
  },
  "kernelspec": {
   "display_name": "Python 3",
   "language": "python",
   "name": "python3"
  },
  "language_info": {
   "codemirror_mode": {
    "name": "ipython",
    "version": 3
   },
   "file_extension": ".py",
   "mimetype": "text/x-python",
   "name": "python",
   "nbconvert_exporter": "python",
   "pygments_lexer": "ipython3",
   "version": "3.7.6"
  },
  "pycharm": {
   "stem_cell": {
    "cell_type": "raw",
    "metadata": {
     "collapsed": false
    },
    "source": []
   }
  }
 },
 "nbformat": 4,
 "nbformat_minor": 1
}
