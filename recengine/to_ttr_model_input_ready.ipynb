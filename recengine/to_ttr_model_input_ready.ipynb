{
  "cells": [
    {
      "cell_type": "code",
      "execution_count": 75,
      "metadata": {
        "collapsed": true,
        "pycharm": {}
      },
      "outputs": [],
      "source": "from recengine.data_parser import ttrdata_from_csv_population_4_weeks\nimport pandas as pd\n\n\n\n\nlogs \u003d pd.read_csv(\"recengine/data/ogasawara_LL_3000_pop/program_logs.csv\", sep\u003d\"|\")\ndata \u003d ttrdata_from_csv_population_4_weeks(\"recengine/data/ogasawara_LL_3000_pop/program_logs.csv\")\n\nheaders \u003d [\"load_week1\", \"max_week1\", \"load_week2\", \"max_week2\", \"load_week3\", \"max_week3\", \"load_week4\", \"max_week4\", \"Performance\"]\nnew_data \u003d pd.DataFrame(columns\u003dheaders)\nnew_data \u003d new_data.append(data)\n\n"
    },
    {
      "cell_type": "code",
      "execution_count": 76,
      "outputs": [],
      "source": "post_logs \u003d {}\nfor p_id, group in logs.groupby(\u0027ID\u0027):\n    post_logs[str(p_id)] \u003d group\n\n# Transform data\nfor index, _ in data.iterrows():\n    new_data.at[index, \u0027Performance\u0027] \u003d post_logs.get(str(index))[\"Performance\"].values[-1]\n  \nnew_data.to_csv(\"ogasawara_LL_3000_pop.csv\")\n\n",
      "metadata": {
        "pycharm": {
          "metadata": false,
          "name": "#%%\n"
        }
      }
    }
  ],
  "metadata": {
    "language_info": {
      "codemirror_mode": {
        "name": "ipython",
        "version": 2
      },
      "file_extension": ".py",
      "mimetype": "text/x-python",
      "name": "python",
      "nbconvert_exporter": "python",
      "pygments_lexer": "ipython2",
      "version": "2.7.6"
    },
    "kernelspec": {
      "name": "python3",
      "language": "python",
      "display_name": "Python 3"
    }
  },
  "nbformat": 4,
  "nbformat_minor": 0
}