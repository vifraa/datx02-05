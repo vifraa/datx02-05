{
  "nbformat": 4,
  "nbformat_minor": 0,
  "metadata": {
    "colab": {
      "name": "datx02 param_normal CLT.ipynb",
      "provenance": [],
      "collapsed_sections": []
    },
    "kernelspec": {
      "name": "python3",
      "display_name": "Python 3"
    }
  },
  "cells": [
    {
      "cell_type": "code",
      "metadata": {
        "id": "cPACs50yURiE",
        "colab_type": "code",
        "colab": {}
      },
      "source": [
        "# Imports\n",
        "import pandas as pd\n",
        "import numpy as np\n",
        "from matplotlib import pyplot as plt\n",
        "import random"
      ],
      "execution_count": 0,
      "outputs": []
    },
    {
      "cell_type": "code",
      "metadata": {
        "id": "rTa_OFb1UnXm",
        "colab_type": "code",
        "colab": {
          "base_uri": "https://localhost:8080/",
          "height": 121
        },
        "outputId": "84fac088-6709-4fb0-efe2-1be50b759f0e"
      },
      "source": [
        "# read csv\n",
        "data = pd.read_csv(\"data/success_params.csv\")\n",
        "print(data.head())"
      ],
      "execution_count": 3,
      "outputs": [
        {
          "output_type": "stream",
          "text": [
            "   fitness_gain  fatigue_gain  fitness_decay  fatigue_decay\n",
            "0      3.940504      4.483752              4              2\n",
            "1      1.639558      2.797408             16              6\n",
            "2      1.604018      1.534607             24             21\n",
            "3      3.351128      3.917639             31             22\n",
            "4      3.727425      3.631146              5              4\n"
          ],
          "name": "stdout"
        }
      ]
    },
    {
      "cell_type": "code",
      "metadata": {
        "id": "qL7yUhfZUp4G",
        "colab_type": "code",
        "colab": {
          "base_uri": "https://localhost:8080/",
          "height": 351
        },
        "outputId": "3b75ad43-fe3e-4a3c-acc8-807969562698"
      },
      "source": [
        "plt.hist(data[\"fitness_gain\"])"
      ],
      "execution_count": 4,
      "outputs": [
        {
          "output_type": "execute_result",
          "data": {
            "text/plain": [
              "(array([48., 56., 37., 36., 31., 31., 27., 19., 10.,  5.]),\n",
              " array([1.00697775, 1.40077615, 1.79457456, 2.18837297, 2.58217137,\n",
              "        2.97596978, 3.36976819, 3.76356659, 4.157365  , 4.5511634 ,\n",
              "        4.94496181]),\n",
              " <a list of 10 Patch objects>)"
            ]
          },
          "metadata": {
            "tags": []
          },
          "execution_count": 4
        },
        {
          "output_type": "display_data",
          "data": {
            "image/png": "[encoded data removed]",
            "text/plain": [
              "<Figure size 432x288 with 1 Axes>"
            ]
          },
          "metadata": {
            "tags": []
          }
        }
      ]
    },
    {
      "cell_type": "code",
      "metadata": {
        "id": "eDK67a-vUpTP",
        "colab_type": "code",
        "colab": {
          "base_uri": "https://localhost:8080/",
          "height": 369
        },
        "outputId": "f77dc9f1-a0a2-4dc5-d8bd-5b4b8e112d05"
      },
      "source": [
        "# Central Limit Theorem\n",
        "sample_size = 100\n",
        "means = []\n",
        "for i in range(100000):\n",
        "  sample = random.sample(data[\"fitness_gain\"].tolist(),4)\n",
        "  sample_mean = np.mean(sample)\n",
        "  means.append(sample_mean)\n",
        "plt.hist(means)\n",
        "  "
      ],
      "execution_count": 24,
      "outputs": [
        {
          "output_type": "execute_result",
          "data": {
            "text/plain": [
              "(array([  691.,  5774., 15457., 24191., 24660., 17160.,  8459.,  2910.,\n",
              "          617.,    81.]),\n",
              " array([1.0692985 , 1.39361558, 1.71793267, 2.04224975, 2.36656683,\n",
              "        2.69088392, 3.015201  , 3.33951808, 3.66383516, 3.98815225,\n",
              "        4.31246933]),\n",
              " <a list of 10 Patch objects>)"
            ]
          },
          "metadata": {
            "tags": []
          },
          "execution_count": 24
        },
        {
          "output_type": "display_data",
          "data": {
            "image/png": "[encoded data removed]",
            "text/plain": [
              "<Figure size 432x288 with 1 Axes>"
            ]
          },
          "metadata": {
            "tags": []
          }
        }
      ]
    },
    {
      "cell_type": "code",
      "metadata": {
        "id": "-Bosg2HuVPuc",
        "colab_type": "code",
        "colab": {
          "base_uri": "https://localhost:8080/",
          "height": 259
        },
        "outputId": "32691760-4e13-4d3c-9312-5ed280dce17c"
      },
      "source": [
        "# Multivariate CLT\n",
        "sample_size = 100\n",
        "means_mv = pd.DataFrame(columns=data.columns)\n",
        "for i in range(10000):\n",
        "  sample = data.sample(sample_size)\n",
        "  sample_mean = sample.mean()\n",
        "  means_mv = means_mv.append(sample_mean, ignore_index=True)\n",
        "print(means_mv)"
      ],
      "execution_count": 52,
      "outputs": [
        {
          "output_type": "stream",
          "text": [
            "      fitness_gain  fatigue_gain  fitness_decay  fatigue_decay\n",
            "0         2.425817      3.161263          15.35           7.77\n",
            "1         2.317144      3.088126          15.43           7.46\n",
            "2         2.431129      3.313443          16.06           8.50\n",
            "3         2.468668      3.185313          15.91           8.68\n",
            "4         2.484151      3.103487          14.69           7.95\n",
            "...            ...           ...            ...            ...\n",
            "9995      2.465199      3.334280          16.04           8.51\n",
            "9996      2.334092      3.342183          17.47           8.65\n",
            "9997      2.473738      3.257711          13.75           6.83\n",
            "9998      2.488930      3.304874          13.88           6.70\n",
            "9999      2.321067      3.283487          15.93           8.26\n",
            "\n",
            "[10000 rows x 4 columns]\n"
          ],
          "name": "stdout"
        }
      ]
    },
    {
      "cell_type": "code",
      "metadata": {
        "id": "hKHVG02Xbgk5",
        "colab_type": "code",
        "colab": {
          "base_uri": "https://localhost:8080/",
          "height": 69
        },
        "outputId": "8c5dd3b3-1b22-4cf5-fb6d-599880c9ee04"
      },
      "source": [
        "\n",
        "# Create the multi normal distro params\n",
        "mean = means_mv.mean()\n",
        "cov = np.cov(means_mv.T)\n",
        "print(len(mean))\n",
        "print(len(cov))\n",
        "# Try sampling\n",
        "sample = np.random.multivariate_normal(mean, cov)\n",
        "print(sample)\n",
        "means_mv.to_csv(r\"data/banister_params_dist.csv\",index=False)"
      ],
      "execution_count": 101,
      "outputs": [
        {
          "output_type": "stream",
          "text": [
            "4\n",
            "4\n",
            "[ 2.44008123  3.27032061 13.46354221  6.7210322 ]\n"
          ],
          "name": "stdout"
        }
      ]
    }
  ]
}